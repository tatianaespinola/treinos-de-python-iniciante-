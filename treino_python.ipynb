{
 "cells": [
  {
   "cell_type": "markdown",
   "id": "9b437e77-1516-4d82-a3e6-f1f763971c08",
   "metadata": {},
   "source": [
    "Rita está criando um sistema para calcular o Índice de Massa Corporal (IMC) e fornecer recomendações básicas. O programa deve receber o peso e a altura de uma pessoa e exibir o valor do IMC, além de indicar se está abaixo do peso, com peso normal ou acima do peso. Crie um programa que receba o peso (em kg) e a altura (em metros) e calcule o IMC usando a fórmula: IMC = peso / (altura ** 2) Depois, exiba o valor do IMC e uma mensagem indicando se está abaixo do peso (IMC < 18.5), peso normal (18.5 <= IMC < 25) ou acima do peso (IMC >= 25)."
   ]
  },
  {
   "cell_type": "code",
   "execution_count": null,
   "id": "0349b0f4-5b45-44f6-9cbb-d0c2d7cd54ee",
   "metadata": {},
   "outputs": [],
   "source": [
    "peso = int(input('Insira seu peso em quilos: '))\n",
    "altura =  float(input('Insira sua altura em metros:'))\n",
    "calculo_IMC = int(peso / altura ** 2)\n",
    "if calculo_IMC < 18.5:\n",
    "    print ('Seu IMC é', calculo_IMC, 'logo, está abaixo do peso ideal')\n",
    "elif calculo_IMC >= 18.5 and calculo_IMC <= 25:\n",
    "    print ('Seu IMC é', calculo_IMC, 'logo, está no peso ideal')\n",
    "else:\n",
    "    print ('Seu IMC é', calculo_IMC, 'logo, está acima do peso ideal')"
   ]
  },
  {
   "cell_type": "code",
   "execution_count": null,
   "id": "62f79e0a-b68c-4c1d-9176-c84d25b9498f",
   "metadata": {},
   "outputs": [],
   "source": []
  },
  {
   "cell_type": "code",
   "execution_count": null,
   "id": "4db30d33-4db5-429f-abe8-04eab456c504",
   "metadata": {},
   "outputs": [],
   "source": []
  }
 ],
 "metadata": {
  "kernelspec": {
   "display_name": "Python [conda env:base] *",
   "language": "python",
   "name": "conda-base-py"
  },
  "language_info": {
   "codemirror_mode": {
    "name": "ipython",
    "version": 3
   },
   "file_extension": ".py",
   "mimetype": "text/x-python",
   "name": "python",
   "nbconvert_exporter": "python",
   "pygments_lexer": "ipython3",
   "version": "3.12.7"
  }
 },
 "nbformat": 4,
 "nbformat_minor": 5
}
